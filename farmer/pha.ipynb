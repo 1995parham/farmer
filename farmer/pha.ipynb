{
 "cells": [
  {
   "cell_type": "markdown",
   "metadata": {},
   "source": [
    "# Farmer Problem\n",
    "Author: Parham Alvani (98131910)"
   ]
  },
  {
   "cell_type": "code",
   "execution_count": 1,
   "metadata": {},
   "outputs": [],
   "source": [
    "from config import Config\n",
    "from pha import PHA, Parameters"
   ]
  },
  {
   "cell_type": "code",
   "execution_count": 2,
   "metadata": {},
   "outputs": [],
   "source": [
    "import pandas as pd\n",
    "import matplotlib.pyplot as plt"
   ]
  },
  {
   "cell_type": "markdown",
   "metadata": {},
   "source": [
    "## 3 Scenarios\n",
    "Here we want to demostrate the correctness benders solution so solve it with 3 scenarios."
   ]
  },
  {
   "cell_type": "code",
   "execution_count": 3,
   "metadata": {},
   "outputs": [],
   "source": [
    "cfg = Config(scenarios=[0.2, 0, -0.2])"
   ]
  },
  {
   "cell_type": "code",
   "execution_count": 4,
   "metadata": {},
   "outputs": [],
   "source": [
    "pha = PHA(cfg, Parameters(0.1, lambda rou: rou))"
   ]
  },
  {
   "cell_type": "code",
   "execution_count": 5,
   "metadata": {},
   "outputs": [],
   "source": [
    "%%capture\n",
    "solution = pha.solve()"
   ]
  },
  {
   "cell_type": "code",
   "execution_count": 6,
   "metadata": {},
   "outputs": [
    {
     "data": {
      "text/plain": [
       "(-108389.99785269593,\n",
       " 170.02176854539658,\n",
       " 79.98911573023936,\n",
       " 249.98911572436188)"
      ]
     },
     "execution_count": 6,
     "metadata": {},
     "output_type": "execute_result"
    }
   ],
   "source": [
    "solution"
   ]
  },
  {
   "cell_type": "code",
   "execution_count": 7,
   "metadata": {},
   "outputs": [],
   "source": [
    "df = pd.DataFrame(data=pha.iterations)"
   ]
  },
  {
   "cell_type": "code",
   "execution_count": 8,
   "metadata": {},
   "outputs": [
    {
     "data": {
      "text/html": [
       "<div>\n",
       "<style scoped>\n",
       "    .dataframe tbody tr th:only-of-type {\n",
       "        vertical-align: middle;\n",
       "    }\n",
       "\n",
       "    .dataframe tbody tr th {\n",
       "        vertical-align: top;\n",
       "    }\n",
       "\n",
       "    .dataframe thead th {\n",
       "        text-align: right;\n",
       "    }\n",
       "</style>\n",
       "<table border=\"1\" class=\"dataframe\">\n",
       "  <thead>\n",
       "    <tr style=\"text-align: right;\">\n",
       "      <th></th>\n",
       "      <th>k</th>\n",
       "      <th>x_hat_1</th>\n",
       "      <th>x_hat_2</th>\n",
       "      <th>x_hat_3</th>\n",
       "      <th>rou</th>\n",
       "      <th>z</th>\n",
       "      <th>difference</th>\n",
       "    </tr>\n",
       "  </thead>\n",
       "  <tbody>\n",
       "    <tr>\n",
       "      <th>0</th>\n",
       "      <td>0</td>\n",
       "      <td>134.444444</td>\n",
       "      <td>57.222222</td>\n",
       "      <td>308.333333</td>\n",
       "      <td>0.1</td>\n",
       "      <td>-115405.555556</td>\n",
       "      <td>120868.518519</td>\n",
       "    </tr>\n",
       "    <tr>\n",
       "      <th>1</th>\n",
       "      <td>1</td>\n",
       "      <td>134.444444</td>\n",
       "      <td>57.222222</td>\n",
       "      <td>308.333333</td>\n",
       "      <td>0.1</td>\n",
       "      <td>-114738.148148</td>\n",
       "      <td>4449.382716</td>\n",
       "    </tr>\n",
       "    <tr>\n",
       "      <th>2</th>\n",
       "      <td>2</td>\n",
       "      <td>134.444444</td>\n",
       "      <td>66.851852</td>\n",
       "      <td>298.703704</td>\n",
       "      <td>0.1</td>\n",
       "      <td>-113486.790123</td>\n",
       "      <td>3101.234568</td>\n",
       "    </tr>\n",
       "    <tr>\n",
       "      <th>3</th>\n",
       "      <td>3</td>\n",
       "      <td>134.444444</td>\n",
       "      <td>80.123457</td>\n",
       "      <td>285.432099</td>\n",
       "      <td>0.1</td>\n",
       "      <td>-112798.398491</td>\n",
       "      <td>2370.164609</td>\n",
       "    </tr>\n",
       "    <tr>\n",
       "      <th>4</th>\n",
       "      <td>4</td>\n",
       "      <td>126.687243</td>\n",
       "      <td>89.979424</td>\n",
       "      <td>283.333333</td>\n",
       "      <td>0.1</td>\n",
       "      <td>-112317.362064</td>\n",
       "      <td>1407.536961</td>\n",
       "    </tr>\n",
       "    <tr>\n",
       "      <th>...</th>\n",
       "      <td>...</td>\n",
       "      <td>...</td>\n",
       "      <td>...</td>\n",
       "      <td>...</td>\n",
       "      <td>...</td>\n",
       "      <td>...</td>\n",
       "      <td>...</td>\n",
       "    </tr>\n",
       "    <tr>\n",
       "      <th>74</th>\n",
       "      <td>74</td>\n",
       "      <td>170.248647</td>\n",
       "      <td>79.875677</td>\n",
       "      <td>249.875677</td>\n",
       "      <td>0.1</td>\n",
       "      <td>-108390.005593</td>\n",
       "      <td>0.019604</td>\n",
       "    </tr>\n",
       "    <tr>\n",
       "      <th>75</th>\n",
       "      <td>75</td>\n",
       "      <td>170.229321</td>\n",
       "      <td>79.885340</td>\n",
       "      <td>249.885339</td>\n",
       "      <td>0.1</td>\n",
       "      <td>-108390.000288</td>\n",
       "      <td>0.016337</td>\n",
       "    </tr>\n",
       "    <tr>\n",
       "      <th>76</th>\n",
       "      <td>76</td>\n",
       "      <td>170.174996</td>\n",
       "      <td>79.912502</td>\n",
       "      <td>249.912502</td>\n",
       "      <td>0.1</td>\n",
       "      <td>-108389.996436</td>\n",
       "      <td>0.013614</td>\n",
       "    </tr>\n",
       "    <tr>\n",
       "      <th>77</th>\n",
       "      <td>77</td>\n",
       "      <td>170.100559</td>\n",
       "      <td>79.949721</td>\n",
       "      <td>249.949720</td>\n",
       "      <td>0.1</td>\n",
       "      <td>-108389.995840</td>\n",
       "      <td>0.011345</td>\n",
       "    </tr>\n",
       "    <tr>\n",
       "      <th>78</th>\n",
       "      <td>78</td>\n",
       "      <td>170.021769</td>\n",
       "      <td>79.989116</td>\n",
       "      <td>249.989116</td>\n",
       "      <td>0.1</td>\n",
       "      <td>-108389.997853</td>\n",
       "      <td>0.009454</td>\n",
       "    </tr>\n",
       "  </tbody>\n",
       "</table>\n",
       "<p>79 rows × 7 columns</p>\n",
       "</div>"
      ],
      "text/plain": [
       "     k     x_hat_1    x_hat_2     x_hat_3  rou              z     difference\n",
       "0    0  134.444444  57.222222  308.333333  0.1 -115405.555556  120868.518519\n",
       "1    1  134.444444  57.222222  308.333333  0.1 -114738.148148    4449.382716\n",
       "2    2  134.444444  66.851852  298.703704  0.1 -113486.790123    3101.234568\n",
       "3    3  134.444444  80.123457  285.432099  0.1 -112798.398491    2370.164609\n",
       "4    4  126.687243  89.979424  283.333333  0.1 -112317.362064    1407.536961\n",
       "..  ..         ...        ...         ...  ...            ...            ...\n",
       "74  74  170.248647  79.875677  249.875677  0.1 -108390.005593       0.019604\n",
       "75  75  170.229321  79.885340  249.885339  0.1 -108390.000288       0.016337\n",
       "76  76  170.174996  79.912502  249.912502  0.1 -108389.996436       0.013614\n",
       "77  77  170.100559  79.949721  249.949720  0.1 -108389.995840       0.011345\n",
       "78  78  170.021769  79.989116  249.989116  0.1 -108389.997853       0.009454\n",
       "\n",
       "[79 rows x 7 columns]"
      ]
     },
     "execution_count": 8,
     "metadata": {},
     "output_type": "execute_result"
    }
   ],
   "source": [
    "df"
   ]
  },
  {
   "cell_type": "code",
   "execution_count": 9,
   "metadata": {},
   "outputs": [
    {
     "data": {
      "text/plain": [
       "Text(0, 0.5, 'z*')"
      ]
     },
     "execution_count": 9,
     "metadata": {},
     "output_type": "execute_result"
    },
    {
     "data": {
      "image/png": "[encoded data removed]",
      "text/plain": [
       "<Figure size 720x576 with 1 Axes>"
      ]
     },
     "metadata": {
      "needs_background": "light"
     },
     "output_type": "display_data"
    }
   ],
   "source": [
    "_, ax = plt.subplots(figsize=(10, 8))\n",
    "\n",
    "ax.plot(df['k'], df['z'], '-^')\n",
    "ax.set_xlabel('iteration')\n",
    "ax.set_ylabel('z*')"
   ]
  },
  {
   "cell_type": "markdown",
   "metadata": {},
   "source": [
    "## 11 Scenarios\n",
    "Let's solve it with 11 scenario"
   ]
  },
  {
   "cell_type": "code",
   "execution_count": 10,
   "metadata": {},
   "outputs": [],
   "source": [
    "cfg = Config(scenarios=[0.5, 0.4, 0.3, 0.2, 0.1, 0, -0.05, -0.1, -0.15, -0.2, -0.25])"
   ]
  },
  {
   "cell_type": "code",
   "execution_count": 11,
   "metadata": {},
   "outputs": [],
   "source": [
    "pha = PHA(cfg, Parameters(0.01, lambda rou: rou))"
   ]
  },
  {
   "cell_type": "code",
   "execution_count": 12,
   "metadata": {},
   "outputs": [],
   "source": [
    "%%capture\n",
    "solution = pha.solve()"
   ]
  },
  {
   "cell_type": "code",
   "execution_count": 13,
   "metadata": {},
   "outputs": [
    {
     "data": {
      "text/plain": [
       "(-121002.399024857, 161.1046089666939, 88.8921360695827, 250.0032549637207)"
      ]
     },
     "execution_count": 13,
     "metadata": {},
     "output_type": "execute_result"
    }
   ],
   "source": [
    "solution"
   ]
  },
  {
   "cell_type": "code",
   "execution_count": 14,
   "metadata": {},
   "outputs": [],
   "source": [
    "df = pd.DataFrame(data=pha.iterations)"
   ]
  },
  {
   "cell_type": "code",
   "execution_count": 15,
   "metadata": {},
   "outputs": [
    {
     "data": {
      "text/html": [
       "<div>\n",
       "<style scoped>\n",
       "    .dataframe tbody tr th:only-of-type {\n",
       "        vertical-align: middle;\n",
       "    }\n",
       "\n",
       "    .dataframe tbody tr th {\n",
       "        vertical-align: top;\n",
       "    }\n",
       "\n",
       "    .dataframe thead th {\n",
       "        text-align: right;\n",
       "    }\n",
       "</style>\n",
       "<table border=\"1\" class=\"dataframe\">\n",
       "  <thead>\n",
       "    <tr style=\"text-align: right;\">\n",
       "      <th></th>\n",
       "      <th>k</th>\n",
       "      <th>x_hat_1</th>\n",
       "      <th>x_hat_2</th>\n",
       "      <th>x_hat_3</th>\n",
       "      <th>rou</th>\n",
       "      <th>z</th>\n",
       "      <th>difference</th>\n",
       "    </tr>\n",
       "  </thead>\n",
       "  <tbody>\n",
       "    <tr>\n",
       "      <th>0</th>\n",
       "      <td>0</td>\n",
       "      <td>148.225672</td>\n",
       "      <td>57.394370</td>\n",
       "      <td>294.379958</td>\n",
       "      <td>0.1</td>\n",
       "      <td>-131933.473221</td>\n",
       "      <td>119604.331372</td>\n",
       "    </tr>\n",
       "    <tr>\n",
       "      <th>1</th>\n",
       "      <td>1</td>\n",
       "      <td>142.966828</td>\n",
       "      <td>72.554629</td>\n",
       "      <td>284.478543</td>\n",
       "      <td>0.1</td>\n",
       "      <td>-128379.034697</td>\n",
       "      <td>5324.678962</td>\n",
       "    </tr>\n",
       "    <tr>\n",
       "      <th>2</th>\n",
       "      <td>2</td>\n",
       "      <td>138.610590</td>\n",
       "      <td>95.018007</td>\n",
       "      <td>266.371403</td>\n",
       "      <td>0.1</td>\n",
       "      <td>-124468.171722</td>\n",
       "      <td>2938.661559</td>\n",
       "    </tr>\n",
       "    <tr>\n",
       "      <th>3</th>\n",
       "      <td>3</td>\n",
       "      <td>142.199264</td>\n",
       "      <td>105.963868</td>\n",
       "      <td>251.836868</td>\n",
       "      <td>0.1</td>\n",
       "      <td>-123388.431613</td>\n",
       "      <td>1549.887366</td>\n",
       "    </tr>\n",
       "    <tr>\n",
       "      <th>4</th>\n",
       "      <td>4</td>\n",
       "      <td>152.201071</td>\n",
       "      <td>104.345191</td>\n",
       "      <td>243.453738</td>\n",
       "      <td>0.1</td>\n",
       "      <td>-122444.800507</td>\n",
       "      <td>988.698406</td>\n",
       "    </tr>\n",
       "    <tr>\n",
       "      <th>...</th>\n",
       "      <td>...</td>\n",
       "      <td>...</td>\n",
       "      <td>...</td>\n",
       "      <td>...</td>\n",
       "      <td>...</td>\n",
       "      <td>...</td>\n",
       "      <td>...</td>\n",
       "    </tr>\n",
       "    <tr>\n",
       "      <th>193</th>\n",
       "      <td>193</td>\n",
       "      <td>161.136493</td>\n",
       "      <td>88.876181</td>\n",
       "      <td>249.987326</td>\n",
       "      <td>0.1</td>\n",
       "      <td>-121002.398691</td>\n",
       "      <td>0.000116</td>\n",
       "    </tr>\n",
       "    <tr>\n",
       "      <th>194</th>\n",
       "      <td>194</td>\n",
       "      <td>161.128819</td>\n",
       "      <td>88.880018</td>\n",
       "      <td>249.991162</td>\n",
       "      <td>0.1</td>\n",
       "      <td>-121002.398729</td>\n",
       "      <td>0.000111</td>\n",
       "    </tr>\n",
       "    <tr>\n",
       "      <th>195</th>\n",
       "      <td>195</td>\n",
       "      <td>161.120690</td>\n",
       "      <td>88.884086</td>\n",
       "      <td>249.995224</td>\n",
       "      <td>0.1</td>\n",
       "      <td>-121002.398810</td>\n",
       "      <td>0.000106</td>\n",
       "    </tr>\n",
       "    <tr>\n",
       "      <th>196</th>\n",
       "      <td>196</td>\n",
       "      <td>161.112495</td>\n",
       "      <td>88.888188</td>\n",
       "      <td>249.999317</td>\n",
       "      <td>0.1</td>\n",
       "      <td>-121002.398916</td>\n",
       "      <td>0.000101</td>\n",
       "    </tr>\n",
       "    <tr>\n",
       "      <th>197</th>\n",
       "      <td>197</td>\n",
       "      <td>161.104609</td>\n",
       "      <td>88.892136</td>\n",
       "      <td>250.003255</td>\n",
       "      <td>0.1</td>\n",
       "      <td>-121002.399025</td>\n",
       "      <td>0.000096</td>\n",
       "    </tr>\n",
       "  </tbody>\n",
       "</table>\n",
       "<p>198 rows × 7 columns</p>\n",
       "</div>"
      ],
      "text/plain": [
       "       k     x_hat_1     x_hat_2     x_hat_3  rou              z  \\\n",
       "0      0  148.225672   57.394370  294.379958  0.1 -131933.473221   \n",
       "1      1  142.966828   72.554629  284.478543  0.1 -128379.034697   \n",
       "2      2  138.610590   95.018007  266.371403  0.1 -124468.171722   \n",
       "3      3  142.199264  105.963868  251.836868  0.1 -123388.431613   \n",
       "4      4  152.201071  104.345191  243.453738  0.1 -122444.800507   \n",
       "..   ...         ...         ...         ...  ...            ...   \n",
       "193  193  161.136493   88.876181  249.987326  0.1 -121002.398691   \n",
       "194  194  161.128819   88.880018  249.991162  0.1 -121002.398729   \n",
       "195  195  161.120690   88.884086  249.995224  0.1 -121002.398810   \n",
       "196  196  161.112495   88.888188  249.999317  0.1 -121002.398916   \n",
       "197  197  161.104609   88.892136  250.003255  0.1 -121002.399025   \n",
       "\n",
       "        difference  \n",
       "0    119604.331372  \n",
       "1      5324.678962  \n",
       "2      2938.661559  \n",
       "3      1549.887366  \n",
       "4       988.698406  \n",
       "..             ...  \n",
       "193       0.000116  \n",
       "194       0.000111  \n",
       "195       0.000106  \n",
       "196       0.000101  \n",
       "197       0.000096  \n",
       "\n",
       "[198 rows x 7 columns]"
      ]
     },
     "execution_count": 15,
     "metadata": {},
     "output_type": "execute_result"
    }
   ],
   "source": [
    "df"
   ]
  },
  {
   "cell_type": "code",
   "execution_count": 16,
   "metadata": {},
   "outputs": [
    {
     "data": {
      "text/plain": [
       "Text(0, 0.5, 'z*')"
      ]
     },
     "execution_count": 16,
     "metadata": {},
     "output_type": "execute_result"
    },
    {
     "data": {
      "image/png": "[encoded data removed]",
      "text/plain": [
       "<Figure size 1440x864 with 1 Axes>"
      ]
     },
     "metadata": {
      "needs_background": "light"
     },
     "output_type": "display_data"
    }
   ],
   "source": [
    "_, ax = plt.subplots(figsize=(20, 12))\n",
    "\n",
    "ax.plot(df['k'], df['z'], '-^')\n",
    "ax.set_xlabel('iteration')\n",
    "ax.set_ylabel('z*')"
   ]
  }
 ],
 "metadata": {
  "kernelspec": {
   "display_name": "Python 3",
   "language": "python",
   "name": "python3"
  },
  "language_info": {
   "codemirror_mode": {
    "name": "ipython",
    "version": 3
   },
   "file_extension": ".py",
   "mimetype": "text/x-python",
   "name": "python",
   "nbconvert_exporter": "python",
   "pygments_lexer": "ipython3",
   "version": "3.8.3"
  }
 },
 "nbformat": 4,
 "nbformat_minor": 4
}
