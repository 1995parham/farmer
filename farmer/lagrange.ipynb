{
 "cells": [
  {
   "cell_type": "markdown",
   "metadata": {},
   "source": [
    "# Farmer Problem\n",
    "Author: Parham Alvani (98131910)"
   ]
  },
  {
   "cell_type": "code",
   "execution_count": 1,
   "metadata": {},
   "outputs": [],
   "source": [
    "from config import Config\n",
    "from lagrange import Lagrange, Parameters"
   ]
  },
  {
   "cell_type": "code",
   "execution_count": 2,
   "metadata": {},
   "outputs": [],
   "source": [
    "import pandas as pd\n",
    "import matplotlib.pyplot as plt"
   ]
  },
  {
   "cell_type": "markdown",
   "metadata": {},
   "source": [
    "## 3 Scenarios\n",
    "Here we want to demostrate the correctness benders solution so solve it with 3 scenarios."
   ]
  },
  {
   "cell_type": "code",
   "execution_count": 3,
   "metadata": {},
   "outputs": [],
   "source": [
    "cfg = Config(scenarios=[0.2, 0, -0.2])"
   ]
  },
  {
   "cell_type": "code",
   "execution_count": 4,
   "metadata": {},
   "outputs": [],
   "source": [
    "lagrange = Lagrange(cfg, Parameters(lower_bound=float('-inf'), upper_bound=-53100, k_bound=100, k_1_bound=4))"
   ]
  },
  {
   "cell_type": "code",
   "execution_count": 5,
   "metadata": {},
   "outputs": [],
   "source": [
    "%%capture\n",
    "solution = lagrange.solve()"
   ]
  },
  {
   "cell_type": "code",
   "execution_count": 6,
   "metadata": {},
   "outputs": [
    {
     "data": {
      "text/plain": [
       "(-108391.03461506369, 500.0, 80.0, 250.0)"
      ]
     },
     "execution_count": 6,
     "metadata": {},
     "output_type": "execute_result"
    }
   ],
   "source": [
    "solution"
   ]
  },
  {
   "cell_type": "code",
   "execution_count": 7,
   "metadata": {},
   "outputs": [],
   "source": [
    "df = pd.DataFrame(data=lagrange.iterations)"
   ]
  },
  {
   "cell_type": "code",
   "execution_count": 8,
   "metadata": {},
   "outputs": [
    {
     "data": {
      "text/html": [
       "<div>\n",
       "<style scoped>\n",
       "    .dataframe tbody tr th:only-of-type {\n",
       "        vertical-align: middle;\n",
       "    }\n",
       "\n",
       "    .dataframe tbody tr th {\n",
       "        vertical-align: top;\n",
       "    }\n",
       "\n",
       "    .dataframe thead th {\n",
       "        text-align: right;\n",
       "    }\n",
       "</style>\n",
       "<table border=\"1\" class=\"dataframe\">\n",
       "  <thead>\n",
       "    <tr style=\"text-align: right;\">\n",
       "      <th></th>\n",
       "      <th>k</th>\n",
       "      <th>x_1</th>\n",
       "      <th>x_2</th>\n",
       "      <th>x_3</th>\n",
       "      <th>z_lb</th>\n",
       "      <th>omega</th>\n",
       "      <th>teta</th>\n",
       "      <th>lambda</th>\n",
       "    </tr>\n",
       "  </thead>\n",
       "  <tbody>\n",
       "    <tr>\n",
       "      <th>0</th>\n",
       "      <td>1</td>\n",
       "      <td>500.0</td>\n",
       "      <td>500.0</td>\n",
       "      <td>375.0</td>\n",
       "      <td>-311000.000000</td>\n",
       "      <td>875.0</td>\n",
       "      <td>0.673698</td>\n",
       "      <td>0.000000</td>\n",
       "    </tr>\n",
       "    <tr>\n",
       "      <th>1</th>\n",
       "      <td>2</td>\n",
       "      <td>0.0</td>\n",
       "      <td>0.0</td>\n",
       "      <td>0.0</td>\n",
       "      <td>-196742.857143</td>\n",
       "      <td>-500.0</td>\n",
       "      <td>1.149143</td>\n",
       "      <td>589.485714</td>\n",
       "    </tr>\n",
       "    <tr>\n",
       "      <th>2</th>\n",
       "      <td>3</td>\n",
       "      <td>500.0</td>\n",
       "      <td>500.0</td>\n",
       "      <td>375.0</td>\n",
       "      <td>-297950.000000</td>\n",
       "      <td>875.0</td>\n",
       "      <td>0.639608</td>\n",
       "      <td>14.914286</td>\n",
       "    </tr>\n",
       "    <tr>\n",
       "      <th>3</th>\n",
       "      <td>4</td>\n",
       "      <td>0.0</td>\n",
       "      <td>0.0</td>\n",
       "      <td>0.0</td>\n",
       "      <td>-189285.714286</td>\n",
       "      <td>-500.0</td>\n",
       "      <td>1.089486</td>\n",
       "      <td>574.571429</td>\n",
       "    </tr>\n",
       "    <tr>\n",
       "      <th>4</th>\n",
       "      <td>5</td>\n",
       "      <td>500.0</td>\n",
       "      <td>500.0</td>\n",
       "      <td>375.0</td>\n",
       "      <td>-284900.000000</td>\n",
       "      <td>875.0</td>\n",
       "      <td>0.605518</td>\n",
       "      <td>29.828571</td>\n",
       "    </tr>\n",
       "    <tr>\n",
       "      <th>...</th>\n",
       "      <td>...</td>\n",
       "      <td>...</td>\n",
       "      <td>...</td>\n",
       "      <td>...</td>\n",
       "      <td>...</td>\n",
       "      <td>...</td>\n",
       "      <td>...</td>\n",
       "      <td>...</td>\n",
       "    </tr>\n",
       "    <tr>\n",
       "      <th>94</th>\n",
       "      <td>95</td>\n",
       "      <td>500.0</td>\n",
       "      <td>80.0</td>\n",
       "      <td>250.0</td>\n",
       "      <td>-108414.663880</td>\n",
       "      <td>330.0</td>\n",
       "      <td>0.000062</td>\n",
       "      <td>274.925261</td>\n",
       "    </tr>\n",
       "    <tr>\n",
       "      <th>95</th>\n",
       "      <td>96</td>\n",
       "      <td>500.0</td>\n",
       "      <td>80.0</td>\n",
       "      <td>250.0</td>\n",
       "      <td>-108407.911602</td>\n",
       "      <td>330.0</td>\n",
       "      <td>0.000062</td>\n",
       "      <td>274.945722</td>\n",
       "    </tr>\n",
       "    <tr>\n",
       "      <th>96</th>\n",
       "      <td>97</td>\n",
       "      <td>500.0</td>\n",
       "      <td>80.0</td>\n",
       "      <td>250.0</td>\n",
       "      <td>-108401.160148</td>\n",
       "      <td>330.0</td>\n",
       "      <td>0.000062</td>\n",
       "      <td>274.966181</td>\n",
       "    </tr>\n",
       "    <tr>\n",
       "      <th>97</th>\n",
       "      <td>98</td>\n",
       "      <td>500.0</td>\n",
       "      <td>80.0</td>\n",
       "      <td>250.0</td>\n",
       "      <td>-108394.409518</td>\n",
       "      <td>330.0</td>\n",
       "      <td>0.000031</td>\n",
       "      <td>274.986638</td>\n",
       "    </tr>\n",
       "    <tr>\n",
       "      <th>98</th>\n",
       "      <td>99</td>\n",
       "      <td>500.0</td>\n",
       "      <td>80.0</td>\n",
       "      <td>250.0</td>\n",
       "      <td>-108391.034615</td>\n",
       "      <td>330.0</td>\n",
       "      <td>0.000031</td>\n",
       "      <td>274.996865</td>\n",
       "    </tr>\n",
       "  </tbody>\n",
       "</table>\n",
       "<p>99 rows × 8 columns</p>\n",
       "</div>"
      ],
      "text/plain": [
       "     k    x_1    x_2    x_3           z_lb  omega      teta      lambda\n",
       "0    1  500.0  500.0  375.0 -311000.000000  875.0  0.673698    0.000000\n",
       "1    2    0.0    0.0    0.0 -196742.857143 -500.0  1.149143  589.485714\n",
       "2    3  500.0  500.0  375.0 -297950.000000  875.0  0.639608   14.914286\n",
       "3    4    0.0    0.0    0.0 -189285.714286 -500.0  1.089486  574.571429\n",
       "4    5  500.0  500.0  375.0 -284900.000000  875.0  0.605518   29.828571\n",
       "..  ..    ...    ...    ...            ...    ...       ...         ...\n",
       "94  95  500.0   80.0  250.0 -108414.663880  330.0  0.000062  274.925261\n",
       "95  96  500.0   80.0  250.0 -108407.911602  330.0  0.000062  274.945722\n",
       "96  97  500.0   80.0  250.0 -108401.160148  330.0  0.000062  274.966181\n",
       "97  98  500.0   80.0  250.0 -108394.409518  330.0  0.000031  274.986638\n",
       "98  99  500.0   80.0  250.0 -108391.034615  330.0  0.000031  274.996865\n",
       "\n",
       "[99 rows x 8 columns]"
      ]
     },
     "execution_count": 8,
     "metadata": {},
     "output_type": "execute_result"
    }
   ],
   "source": [
    "df"
   ]
  },
  {
   "cell_type": "code",
   "execution_count": 9,
   "metadata": {},
   "outputs": [
    {
     "data": {
      "text/plain": [
       "Text(0, 0.5, 'z* lower bound')"
      ]
     },
     "execution_count": 9,
     "metadata": {},
     "output_type": "execute_result"
    },
    {
     "data": {
      "image/png": "[encoded data removed]",
      "text/plain": [
       "<Figure size 720x576 with 1 Axes>"
      ]
     },
     "metadata": {
      "needs_background": "light"
     },
     "output_type": "display_data"
    }
   ],
   "source": [
    "_, ax = plt.subplots(figsize=(10, 8))\n",
    "\n",
    "ax.plot(df['k'], df['z_lb'], '-^')\n",
    "ax.set_xlabel('iteration')\n",
    "ax.set_ylabel('z* lower bound')"
   ]
  },
  {
   "cell_type": "markdown",
   "metadata": {},
   "source": [
    "## 11 Scenarios\n",
    "Let's solve it with 11 scenario"
   ]
  },
  {
   "cell_type": "code",
   "execution_count": 10,
   "metadata": {},
   "outputs": [],
   "source": [
    "cfg = Config(scenarios=[0.5, 0.4, 0.3, 0.2, 0.1, 0, -0.05, -0.1, -0.15, -0.2, -0.25])"
   ]
  },
  {
   "cell_type": "code",
   "execution_count": 11,
   "metadata": {},
   "outputs": [],
   "source": [
    "lagrange = Lagrange(cfg, Parameters(lower_bound=float('-inf'), upper_bound=-53100, k_bound=500, k_1_bound=4))"
   ]
  },
  {
   "cell_type": "code",
   "execution_count": 12,
   "metadata": {},
   "outputs": [],
   "source": [
    "%%capture\n",
    "solution = lagrange.solve()"
   ]
  },
  {
   "cell_type": "code",
   "execution_count": 13,
   "metadata": {},
   "outputs": [
    {
     "data": {
      "text/plain": [
       "(-121002.39906870962, 500.0, 88.88888888888889, 250.0)"
      ]
     },
     "execution_count": 13,
     "metadata": {},
     "output_type": "execute_result"
    }
   ],
   "source": [
    "solution"
   ]
  },
  {
   "cell_type": "code",
   "execution_count": 14,
   "metadata": {},
   "outputs": [],
   "source": [
    "df = pd.DataFrame(data=lagrange.iterations)"
   ]
  },
  {
   "cell_type": "code",
   "execution_count": 15,
   "metadata": {},
   "outputs": [
    {
     "data": {
      "text/html": [
       "<div>\n",
       "<style scoped>\n",
       "    .dataframe tbody tr th:only-of-type {\n",
       "        vertical-align: middle;\n",
       "    }\n",
       "\n",
       "    .dataframe tbody tr th {\n",
       "        vertical-align: top;\n",
       "    }\n",
       "\n",
       "    .dataframe thead th {\n",
       "        text-align: right;\n",
       "    }\n",
       "</style>\n",
       "<table border=\"1\" class=\"dataframe\">\n",
       "  <thead>\n",
       "    <tr style=\"text-align: right;\">\n",
       "      <th></th>\n",
       "      <th>k</th>\n",
       "      <th>x_1</th>\n",
       "      <th>x_2</th>\n",
       "      <th>x_3</th>\n",
       "      <th>z_lb</th>\n",
       "      <th>omega</th>\n",
       "      <th>teta</th>\n",
       "      <th>lambda</th>\n",
       "    </tr>\n",
       "  </thead>\n",
       "  <tbody>\n",
       "    <tr>\n",
       "      <th>0</th>\n",
       "      <td>1</td>\n",
       "      <td>500.0</td>\n",
       "      <td>500.000000</td>\n",
       "      <td>375.0</td>\n",
       "      <td>-345056.818182</td>\n",
       "      <td>875.000000</td>\n",
       "      <td>7.626627e-01</td>\n",
       "      <td>0.000000</td>\n",
       "    </tr>\n",
       "    <tr>\n",
       "      <th>1</th>\n",
       "      <td>2</td>\n",
       "      <td>0.0</td>\n",
       "      <td>0.000000</td>\n",
       "      <td>0.0</td>\n",
       "      <td>-235664.935065</td>\n",
       "      <td>-500.000000</td>\n",
       "      <td>1.460519e+00</td>\n",
       "      <td>667.329870</td>\n",
       "    </tr>\n",
       "    <tr>\n",
       "      <th>2</th>\n",
       "      <td>3</td>\n",
       "      <td>500.0</td>\n",
       "      <td>500.000000</td>\n",
       "      <td>375.0</td>\n",
       "      <td>-345056.818182</td>\n",
       "      <td>875.000000</td>\n",
       "      <td>7.626627e-01</td>\n",
       "      <td>0.000000</td>\n",
       "    </tr>\n",
       "    <tr>\n",
       "      <th>3</th>\n",
       "      <td>4</td>\n",
       "      <td>0.0</td>\n",
       "      <td>0.000000</td>\n",
       "      <td>0.0</td>\n",
       "      <td>-235664.935065</td>\n",
       "      <td>-500.000000</td>\n",
       "      <td>1.460519e+00</td>\n",
       "      <td>667.329870</td>\n",
       "    </tr>\n",
       "    <tr>\n",
       "      <th>4</th>\n",
       "      <td>5</td>\n",
       "      <td>500.0</td>\n",
       "      <td>500.000000</td>\n",
       "      <td>375.0</td>\n",
       "      <td>-345056.818182</td>\n",
       "      <td>875.000000</td>\n",
       "      <td>7.626627e-01</td>\n",
       "      <td>0.000000</td>\n",
       "    </tr>\n",
       "    <tr>\n",
       "      <th>...</th>\n",
       "      <td>...</td>\n",
       "      <td>...</td>\n",
       "      <td>...</td>\n",
       "      <td>...</td>\n",
       "      <td>...</td>\n",
       "      <td>...</td>\n",
       "      <td>...</td>\n",
       "      <td>...</td>\n",
       "    </tr>\n",
       "    <tr>\n",
       "      <th>494</th>\n",
       "      <td>495</td>\n",
       "      <td>500.0</td>\n",
       "      <td>88.888889</td>\n",
       "      <td>250.0</td>\n",
       "      <td>-121002.399069</td>\n",
       "      <td>338.888889</td>\n",
       "      <td>2.277409e-34</td>\n",
       "      <td>303.977272</td>\n",
       "    </tr>\n",
       "    <tr>\n",
       "      <th>495</th>\n",
       "      <td>496</td>\n",
       "      <td>500.0</td>\n",
       "      <td>88.888889</td>\n",
       "      <td>250.0</td>\n",
       "      <td>-121002.399069</td>\n",
       "      <td>338.888889</td>\n",
       "      <td>2.277409e-34</td>\n",
       "      <td>303.977272</td>\n",
       "    </tr>\n",
       "    <tr>\n",
       "      <th>496</th>\n",
       "      <td>497</td>\n",
       "      <td>500.0</td>\n",
       "      <td>88.888889</td>\n",
       "      <td>250.0</td>\n",
       "      <td>-121002.399069</td>\n",
       "      <td>338.888889</td>\n",
       "      <td>1.138704e-34</td>\n",
       "      <td>303.977272</td>\n",
       "    </tr>\n",
       "    <tr>\n",
       "      <th>497</th>\n",
       "      <td>498</td>\n",
       "      <td>500.0</td>\n",
       "      <td>88.888889</td>\n",
       "      <td>250.0</td>\n",
       "      <td>-121002.399069</td>\n",
       "      <td>338.888889</td>\n",
       "      <td>1.138704e-34</td>\n",
       "      <td>303.977272</td>\n",
       "    </tr>\n",
       "    <tr>\n",
       "      <th>498</th>\n",
       "      <td>499</td>\n",
       "      <td>500.0</td>\n",
       "      <td>88.888889</td>\n",
       "      <td>250.0</td>\n",
       "      <td>-121002.399069</td>\n",
       "      <td>338.888889</td>\n",
       "      <td>1.138704e-34</td>\n",
       "      <td>303.977272</td>\n",
       "    </tr>\n",
       "  </tbody>\n",
       "</table>\n",
       "<p>499 rows × 8 columns</p>\n",
       "</div>"
      ],
      "text/plain": [
       "       k    x_1         x_2    x_3           z_lb       omega          teta  \\\n",
       "0      1  500.0  500.000000  375.0 -345056.818182  875.000000  7.626627e-01   \n",
       "1      2    0.0    0.000000    0.0 -235664.935065 -500.000000  1.460519e+00   \n",
       "2      3  500.0  500.000000  375.0 -345056.818182  875.000000  7.626627e-01   \n",
       "3      4    0.0    0.000000    0.0 -235664.935065 -500.000000  1.460519e+00   \n",
       "4      5  500.0  500.000000  375.0 -345056.818182  875.000000  7.626627e-01   \n",
       "..   ...    ...         ...    ...            ...         ...           ...   \n",
       "494  495  500.0   88.888889  250.0 -121002.399069  338.888889  2.277409e-34   \n",
       "495  496  500.0   88.888889  250.0 -121002.399069  338.888889  2.277409e-34   \n",
       "496  497  500.0   88.888889  250.0 -121002.399069  338.888889  1.138704e-34   \n",
       "497  498  500.0   88.888889  250.0 -121002.399069  338.888889  1.138704e-34   \n",
       "498  499  500.0   88.888889  250.0 -121002.399069  338.888889  1.138704e-34   \n",
       "\n",
       "         lambda  \n",
       "0      0.000000  \n",
       "1    667.329870  \n",
       "2      0.000000  \n",
       "3    667.329870  \n",
       "4      0.000000  \n",
       "..          ...  \n",
       "494  303.977272  \n",
       "495  303.977272  \n",
       "496  303.977272  \n",
       "497  303.977272  \n",
       "498  303.977272  \n",
       "\n",
       "[499 rows x 8 columns]"
      ]
     },
     "execution_count": 15,
     "metadata": {},
     "output_type": "execute_result"
    }
   ],
   "source": [
    "df"
   ]
  },
  {
   "cell_type": "code",
   "execution_count": 16,
   "metadata": {},
   "outputs": [
    {
     "data": {
      "text/plain": [
       "Text(0, 0.5, 'z* lower bound')"
      ]
     },
     "execution_count": 16,
     "metadata": {},
     "output_type": "execute_result"
    },
    {
     "data": {
      "image/png": "[encoded data removed]",
      "text/plain": [
       "<Figure size 1440x864 with 1 Axes>"
      ]
     },
     "metadata": {
      "needs_background": "light"
     },
     "output_type": "display_data"
    }
   ],
   "source": [
    "_, ax = plt.subplots(figsize=(20, 12))\n",
    "\n",
    "ax.plot(df['k'], df['z_lb'], '-^')\n",
    "ax.set_xlabel('iteration')\n",
    "ax.set_ylabel('z* lower bound')"
   ]
  }
 ],
 "metadata": {
  "kernelspec": {
   "display_name": "Python 3",
   "language": "python",
   "name": "python3"
  },
  "language_info": {
   "codemirror_mode": {
    "name": "ipython",
    "version": 3
   },
   "file_extension": ".py",
   "mimetype": "text/x-python",
   "name": "python",
   "nbconvert_exporter": "python",
   "pygments_lexer": "ipython3",
   "version": "3.8.2"
  }
 },
 "nbformat": 4,
 "nbformat_minor": 4
}
