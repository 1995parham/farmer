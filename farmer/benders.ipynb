{
 "cells": [
  {
   "cell_type": "markdown",
   "metadata": {},
   "source": [
    "# Farmer Problem\n",
    "Author: Parham Alvani (98131910)"
   ]
  },
  {
   "cell_type": "code",
   "execution_count": 1,
   "metadata": {},
   "outputs": [],
   "source": [
    "from config import Config\n",
    "from benders import Benders"
   ]
  },
  {
   "cell_type": "code",
   "execution_count": 2,
   "metadata": {},
   "outputs": [],
   "source": [
    "import pandas as pd\n",
    "import matplotlib.pyplot as plt"
   ]
  },
  {
   "cell_type": "markdown",
   "metadata": {},
   "source": [
    "## 3 Scenarios\n",
    "Here we want to demostrate the correctness benders solution so solve it with 3 scenarios."
   ]
  },
  {
   "cell_type": "code",
   "execution_count": 3,
   "metadata": {},
   "outputs": [],
   "source": [
    "cfg = Config(scenarios=[0.2, 0, -0.2])"
   ]
  },
  {
   "cell_type": "code",
   "execution_count": 4,
   "metadata": {},
   "outputs": [],
   "source": [
    "benders = Benders(cfg)"
   ]
  },
  {
   "cell_type": "code",
   "execution_count": 5,
   "metadata": {},
   "outputs": [],
   "source": [
    "%%capture\n",
    "solution = benders.solve()"
   ]
  },
  {
   "cell_type": "code",
   "execution_count": 6,
   "metadata": {},
   "outputs": [
    {
     "data": {
      "text/plain": [
       "Result(z_star=-108390.0, x_1=170.00000000000023, x_2=79.99999999999976, x_3=250.0)"
      ]
     },
     "execution_count": 6,
     "metadata": {},
     "output_type": "execute_result"
    }
   ],
   "source": [
    "solution"
   ]
  },
  {
   "cell_type": "code",
   "execution_count": 7,
   "metadata": {},
   "outputs": [],
   "source": [
    "df = pd.DataFrame(data=benders.iterations)"
   ]
  },
  {
   "cell_type": "code",
   "execution_count": 8,
   "metadata": {},
   "outputs": [
    {
     "data": {
      "text/html": [
       "<div>\n",
       "<style scoped>\n",
       "    .dataframe tbody tr th:only-of-type {\n",
       "        vertical-align: middle;\n",
       "    }\n",
       "\n",
       "    .dataframe tbody tr th {\n",
       "        vertical-align: top;\n",
       "    }\n",
       "\n",
       "    .dataframe thead th {\n",
       "        text-align: right;\n",
       "    }\n",
       "</style>\n",
       "<table border=\"1\" class=\"dataframe\">\n",
       "  <thead>\n",
       "    <tr style=\"text-align: right;\">\n",
       "      <th></th>\n",
       "      <th>k</th>\n",
       "      <th>x_1</th>\n",
       "      <th>x_2</th>\n",
       "      <th>x_3</th>\n",
       "      <th>z_lb</th>\n",
       "      <th>z_ub</th>\n",
       "      <th>pi_1</th>\n",
       "      <th>pi_2</th>\n",
       "      <th>pi_3</th>\n",
       "    </tr>\n",
       "  </thead>\n",
       "  <tbody>\n",
       "    <tr>\n",
       "      <th>0</th>\n",
       "      <td>1</td>\n",
       "      <td>0.000000</td>\n",
       "      <td>0.000000</td>\n",
       "      <td>0.000000</td>\n",
       "      <td>-1000000.000000</td>\n",
       "      <td>98000.000000</td>\n",
       "      <td>-595.0</td>\n",
       "      <td>-630.0</td>\n",
       "      <td>-60000000.0</td>\n",
       "    </tr>\n",
       "    <tr>\n",
       "      <th>1</th>\n",
       "      <td>2</td>\n",
       "      <td>0.000000</td>\n",
       "      <td>0.000000</td>\n",
       "      <td>0.018300</td>\n",
       "      <td>-999995.242000</td>\n",
       "      <td>97991.582000</td>\n",
       "      <td>-595.0</td>\n",
       "      <td>-630.0</td>\n",
       "      <td>-720.0</td>\n",
       "    </tr>\n",
       "    <tr>\n",
       "      <th>2</th>\n",
       "      <td>3</td>\n",
       "      <td>0.000000</td>\n",
       "      <td>0.000000</td>\n",
       "      <td>500.000000</td>\n",
       "      <td>-132000.000000</td>\n",
       "      <td>-28000.000000</td>\n",
       "      <td>-595.0</td>\n",
       "      <td>-630.0</td>\n",
       "      <td>-200.0</td>\n",
       "    </tr>\n",
       "    <tr>\n",
       "      <th>3</th>\n",
       "      <td>4</td>\n",
       "      <td>200.000000</td>\n",
       "      <td>0.000000</td>\n",
       "      <td>300.000000</td>\n",
       "      <td>-129000.000000</td>\n",
       "      <td>-98200.000000</td>\n",
       "      <td>-425.0</td>\n",
       "      <td>-630.0</td>\n",
       "      <td>-512.0</td>\n",
       "    </tr>\n",
       "    <tr>\n",
       "      <th>4</th>\n",
       "      <td>5</td>\n",
       "      <td>18.823529</td>\n",
       "      <td>181.176471</td>\n",
       "      <td>300.000000</td>\n",
       "      <td>-120847.058824</td>\n",
       "      <td>-92235.294118</td>\n",
       "      <td>-595.0</td>\n",
       "      <td>-450.0</td>\n",
       "      <td>-512.0</td>\n",
       "    </tr>\n",
       "    <tr>\n",
       "      <th>5</th>\n",
       "      <td>6</td>\n",
       "      <td>159.848341</td>\n",
       "      <td>155.412322</td>\n",
       "      <td>184.739336</td>\n",
       "      <td>-120277.535545</td>\n",
       "      <td>-93129.099526</td>\n",
       "      <td>-425.0</td>\n",
       "      <td>-450.0</td>\n",
       "      <td>-720.0</td>\n",
       "    </tr>\n",
       "    <tr>\n",
       "      <th>6</th>\n",
       "      <td>7</td>\n",
       "      <td>112.588008</td>\n",
       "      <td>110.777563</td>\n",
       "      <td>276.634429</td>\n",
       "      <td>-112584.603482</td>\n",
       "      <td>-107044.642166</td>\n",
       "      <td>-425.0</td>\n",
       "      <td>-450.0</td>\n",
       "      <td>-512.0</td>\n",
       "    </tr>\n",
       "    <tr>\n",
       "      <th>7</th>\n",
       "      <td>8</td>\n",
       "      <td>170.000000</td>\n",
       "      <td>80.000000</td>\n",
       "      <td>250.000000</td>\n",
       "      <td>-109350.000000</td>\n",
       "      <td>-108390.000000</td>\n",
       "      <td>-425.0</td>\n",
       "      <td>-498.0</td>\n",
       "      <td>-720.0</td>\n",
       "    </tr>\n",
       "    <tr>\n",
       "      <th>8</th>\n",
       "      <td>9</td>\n",
       "      <td>165.384615</td>\n",
       "      <td>80.000000</td>\n",
       "      <td>254.615385</td>\n",
       "      <td>-109243.846154</td>\n",
       "      <td>-108283.846154</td>\n",
       "      <td>-425.0</td>\n",
       "      <td>-498.0</td>\n",
       "      <td>-512.0</td>\n",
       "    </tr>\n",
       "    <tr>\n",
       "      <th>9</th>\n",
       "      <td>10</td>\n",
       "      <td>177.272727</td>\n",
       "      <td>72.727273</td>\n",
       "      <td>250.000000</td>\n",
       "      <td>-108440.909091</td>\n",
       "      <td>-108004.545455</td>\n",
       "      <td>-425.0</td>\n",
       "      <td>-558.0</td>\n",
       "      <td>-720.0</td>\n",
       "    </tr>\n",
       "    <tr>\n",
       "      <th>10</th>\n",
       "      <td>11</td>\n",
       "      <td>175.174825</td>\n",
       "      <td>72.727273</td>\n",
       "      <td>252.097902</td>\n",
       "      <td>-108392.657343</td>\n",
       "      <td>-107956.293706</td>\n",
       "      <td>-425.0</td>\n",
       "      <td>-558.0</td>\n",
       "      <td>-512.0</td>\n",
       "    </tr>\n",
       "    <tr>\n",
       "      <th>11</th>\n",
       "      <td>12</td>\n",
       "      <td>170.000000</td>\n",
       "      <td>80.000000</td>\n",
       "      <td>250.000000</td>\n",
       "      <td>-108390.000000</td>\n",
       "      <td>-108390.000000</td>\n",
       "      <td>-425.0</td>\n",
       "      <td>-498.0</td>\n",
       "      <td>-720.0</td>\n",
       "    </tr>\n",
       "  </tbody>\n",
       "</table>\n",
       "</div>"
      ],
      "text/plain": [
       "     k         x_1         x_2         x_3            z_lb           z_ub  \\\n",
       "0    1    0.000000    0.000000    0.000000 -1000000.000000   98000.000000   \n",
       "1    2    0.000000    0.000000    0.018300  -999995.242000   97991.582000   \n",
       "2    3    0.000000    0.000000  500.000000  -132000.000000  -28000.000000   \n",
       "3    4  200.000000    0.000000  300.000000  -129000.000000  -98200.000000   \n",
       "4    5   18.823529  181.176471  300.000000  -120847.058824  -92235.294118   \n",
       "5    6  159.848341  155.412322  184.739336  -120277.535545  -93129.099526   \n",
       "6    7  112.588008  110.777563  276.634429  -112584.603482 -107044.642166   \n",
       "7    8  170.000000   80.000000  250.000000  -109350.000000 -108390.000000   \n",
       "8    9  165.384615   80.000000  254.615385  -109243.846154 -108283.846154   \n",
       "9   10  177.272727   72.727273  250.000000  -108440.909091 -108004.545455   \n",
       "10  11  175.174825   72.727273  252.097902  -108392.657343 -107956.293706   \n",
       "11  12  170.000000   80.000000  250.000000  -108390.000000 -108390.000000   \n",
       "\n",
       "     pi_1   pi_2        pi_3  \n",
       "0  -595.0 -630.0 -60000000.0  \n",
       "1  -595.0 -630.0      -720.0  \n",
       "2  -595.0 -630.0      -200.0  \n",
       "3  -425.0 -630.0      -512.0  \n",
       "4  -595.0 -450.0      -512.0  \n",
       "5  -425.0 -450.0      -720.0  \n",
       "6  -425.0 -450.0      -512.0  \n",
       "7  -425.0 -498.0      -720.0  \n",
       "8  -425.0 -498.0      -512.0  \n",
       "9  -425.0 -558.0      -720.0  \n",
       "10 -425.0 -558.0      -512.0  \n",
       "11 -425.0 -498.0      -720.0  "
      ]
     },
     "execution_count": 8,
     "metadata": {},
     "output_type": "execute_result"
    }
   ],
   "source": [
    "df"
   ]
  },
  {
   "cell_type": "code",
   "execution_count": 9,
   "metadata": {},
   "outputs": [
    {
     "data": {
      "text/plain": [
       "Text(0, 0.5, 'cost')"
      ]
     },
     "execution_count": 9,
     "metadata": {},
     "output_type": "execute_result"
    },
    {
     "data": {
      "image/png": "[encoded data removed]",
      "text/plain": [
       "<Figure size 576x432 with 1 Axes>"
      ]
     },
     "metadata": {
      "needs_background": "light"
     },
     "output_type": "display_data"
    }
   ],
   "source": [
    "_, ax = plt.subplots(figsize=(8, 6))\n",
    "\n",
    "ax.plot(df['k'], df['z_lb'], '-^', df['z_ub'], '-*')\n",
    "ax.set_xlabel('iteration')\n",
    "ax.set_ylabel('cost')"
   ]
  },
  {
   "cell_type": "markdown",
   "metadata": {},
   "source": [
    "## 11 Scenarios\n",
    "Let's solve it with 11 scenario"
   ]
  },
  {
   "cell_type": "code",
   "execution_count": 10,
   "metadata": {},
   "outputs": [],
   "source": [
    "cfg = Config(scenarios=[0.5, 0.4, 0.3, 0.2, 0.1, 0, -0.05, -0.1, -0.15, -0.2, -0.25])"
   ]
  },
  {
   "cell_type": "code",
   "execution_count": 11,
   "metadata": {},
   "outputs": [],
   "source": [
    "benders = Benders(cfg)"
   ]
  },
  {
   "cell_type": "code",
   "execution_count": 12,
   "metadata": {},
   "outputs": [],
   "source": [
    "%%capture\n",
    "solution = benders.solve()"
   ]
  },
  {
   "cell_type": "code",
   "execution_count": 13,
   "metadata": {},
   "outputs": [
    {
     "data": {
      "text/plain": [
       "Result(z_star=-121002.39898989905, x_1=161.11111111111347, x_2=88.88888888888697, x_3=249.99999999999955)"
      ]
     },
     "execution_count": 13,
     "metadata": {},
     "output_type": "execute_result"
    }
   ],
   "source": [
    "solution"
   ]
  },
  {
   "cell_type": "code",
   "execution_count": 14,
   "metadata": {},
   "outputs": [],
   "source": [
    "df = pd.DataFrame(data=benders.iterations)"
   ]
  },
  {
   "cell_type": "code",
   "execution_count": 15,
   "metadata": {},
   "outputs": [
    {
     "data": {
      "text/html": [
       "<div>\n",
       "<style scoped>\n",
       "    .dataframe tbody tr th:only-of-type {\n",
       "        vertical-align: middle;\n",
       "    }\n",
       "\n",
       "    .dataframe tbody tr th {\n",
       "        vertical-align: top;\n",
       "    }\n",
       "\n",
       "    .dataframe thead th {\n",
       "        text-align: right;\n",
       "    }\n",
       "</style>\n",
       "<table border=\"1\" class=\"dataframe\">\n",
       "  <thead>\n",
       "    <tr style=\"text-align: right;\">\n",
       "      <th></th>\n",
       "      <th>k</th>\n",
       "      <th>x_1</th>\n",
       "      <th>x_2</th>\n",
       "      <th>x_3</th>\n",
       "      <th>z_lb</th>\n",
       "      <th>z_ub</th>\n",
       "      <th>pi_1</th>\n",
       "      <th>pi_2</th>\n",
       "      <th>pi_3</th>\n",
       "    </tr>\n",
       "  </thead>\n",
       "  <tbody>\n",
       "    <tr>\n",
       "      <th>0</th>\n",
       "      <td>1</td>\n",
       "      <td>0.000000</td>\n",
       "      <td>0.000000</td>\n",
       "      <td>0.000000</td>\n",
       "      <td>-1000000.000000</td>\n",
       "      <td>98000.000000</td>\n",
       "      <td>-635.568182</td>\n",
       "      <td>-672.954545</td>\n",
       "      <td>-2.350000e+08</td>\n",
       "    </tr>\n",
       "    <tr>\n",
       "      <th>1</th>\n",
       "      <td>2</td>\n",
       "      <td>0.000000</td>\n",
       "      <td>0.000000</td>\n",
       "      <td>0.004672</td>\n",
       "      <td>-999998.785191</td>\n",
       "      <td>97997.621354</td>\n",
       "      <td>-635.568182</td>\n",
       "      <td>-672.954545</td>\n",
       "      <td>-7.690909e+02</td>\n",
       "    </tr>\n",
       "    <tr>\n",
       "      <th>2</th>\n",
       "      <td>3</td>\n",
       "      <td>0.000000</td>\n",
       "      <td>0.000000</td>\n",
       "      <td>500.000000</td>\n",
       "      <td>-156545.454545</td>\n",
       "      <td>-34818.181818</td>\n",
       "      <td>-635.568182</td>\n",
       "      <td>-672.954545</td>\n",
       "      <td>-2.136364e+02</td>\n",
       "    </tr>\n",
       "    <tr>\n",
       "      <th>3</th>\n",
       "      <td>4</td>\n",
       "      <td>219.148936</td>\n",
       "      <td>0.000000</td>\n",
       "      <td>280.851064</td>\n",
       "      <td>-151390.473888</td>\n",
       "      <td>-109806.237911</td>\n",
       "      <td>-453.977273</td>\n",
       "      <td>-672.954545</td>\n",
       "      <td>-4.618182e+02</td>\n",
       "    </tr>\n",
       "    <tr>\n",
       "      <th>4</th>\n",
       "      <td>5</td>\n",
       "      <td>465.381727</td>\n",
       "      <td>34.618273</td>\n",
       "      <td>0.000000</td>\n",
       "      <td>-143308.880419</td>\n",
       "      <td>-72399.789510</td>\n",
       "      <td>-453.977273</td>\n",
       "      <td>-672.954545</td>\n",
       "      <td>-2.350000e+08</td>\n",
       "    </tr>\n",
       "    <tr>\n",
       "      <th>5</th>\n",
       "      <td>6</td>\n",
       "      <td>465.381217</td>\n",
       "      <td>34.618482</td>\n",
       "      <td>0.000302</td>\n",
       "      <td>-143308.878617</td>\n",
       "      <td>-72399.880425</td>\n",
       "      <td>-453.977273</td>\n",
       "      <td>-672.954545</td>\n",
       "      <td>-7.690909e+02</td>\n",
       "    </tr>\n",
       "    <tr>\n",
       "      <th>6</th>\n",
       "      <td>7</td>\n",
       "      <td>74.893617</td>\n",
       "      <td>194.337152</td>\n",
       "      <td>230.769231</td>\n",
       "      <td>-141930.999851</td>\n",
       "      <td>-114350.952239</td>\n",
       "      <td>-535.113636</td>\n",
       "      <td>-480.681818</td>\n",
       "      <td>-6.320000e+02</td>\n",
       "    </tr>\n",
       "    <tr>\n",
       "      <th>7</th>\n",
       "      <td>8</td>\n",
       "      <td>175.768272</td>\n",
       "      <td>93.462498</td>\n",
       "      <td>230.769231</td>\n",
       "      <td>-127911.715467</td>\n",
       "      <td>-120811.953333</td>\n",
       "      <td>-453.977273</td>\n",
       "      <td>-519.954545</td>\n",
       "      <td>-6.320000e+02</td>\n",
       "    </tr>\n",
       "    <tr>\n",
       "      <th>8</th>\n",
       "      <td>9</td>\n",
       "      <td>97.563820</td>\n",
       "      <td>112.675254</td>\n",
       "      <td>289.760926</td>\n",
       "      <td>-124555.314052</td>\n",
       "      <td>-117155.305360</td>\n",
       "      <td>-477.931818</td>\n",
       "      <td>-480.681818</td>\n",
       "      <td>-4.618182e+02</td>\n",
       "    </tr>\n",
       "    <tr>\n",
       "      <th>9</th>\n",
       "      <td>10</td>\n",
       "      <td>156.668398</td>\n",
       "      <td>81.551831</td>\n",
       "      <td>261.779771</td>\n",
       "      <td>-123088.394898</td>\n",
       "      <td>-120365.036457</td>\n",
       "      <td>-453.977273</td>\n",
       "      <td>-550.227273</td>\n",
       "      <td>-5.138182e+02</td>\n",
       "    </tr>\n",
       "    <tr>\n",
       "      <th>10</th>\n",
       "      <td>11</td>\n",
       "      <td>129.962053</td>\n",
       "      <td>121.156970</td>\n",
       "      <td>248.880978</td>\n",
       "      <td>-121655.611721</td>\n",
       "      <td>-119711.670656</td>\n",
       "      <td>-453.977273</td>\n",
       "      <td>-480.681818</td>\n",
       "      <td>-5.705455e+02</td>\n",
       "    </tr>\n",
       "    <tr>\n",
       "      <th>11</th>\n",
       "      <td>12</td>\n",
       "      <td>174.348297</td>\n",
       "      <td>85.821931</td>\n",
       "      <td>239.829772</td>\n",
       "      <td>-121535.417611</td>\n",
       "      <td>-120933.438270</td>\n",
       "      <td>-453.977273</td>\n",
       "      <td>-534.681818</td>\n",
       "      <td>-5.705455e+02</td>\n",
       "    </tr>\n",
       "    <tr>\n",
       "      <th>12</th>\n",
       "      <td>13</td>\n",
       "      <td>149.533800</td>\n",
       "      <td>96.969697</td>\n",
       "      <td>253.496503</td>\n",
       "      <td>-121031.057957</td>\n",
       "      <td>-120674.033164</td>\n",
       "      <td>-453.977273</td>\n",
       "      <td>-506.045455</td>\n",
       "      <td>-5.138182e+02</td>\n",
       "    </tr>\n",
       "    <tr>\n",
       "      <th>13</th>\n",
       "      <td>14</td>\n",
       "      <td>159.829060</td>\n",
       "      <td>88.888889</td>\n",
       "      <td>251.282051</td>\n",
       "      <td>-121010.819736</td>\n",
       "      <td>-120938.092463</td>\n",
       "      <td>-453.977273</td>\n",
       "      <td>-519.954545</td>\n",
       "      <td>-5.138182e+02</td>\n",
       "    </tr>\n",
       "    <tr>\n",
       "      <th>14</th>\n",
       "      <td>15</td>\n",
       "      <td>162.889813</td>\n",
       "      <td>86.486486</td>\n",
       "      <td>250.623701</td>\n",
       "      <td>-121004.802967</td>\n",
       "      <td>-120969.422132</td>\n",
       "      <td>-453.977273</td>\n",
       "      <td>-534.681818</td>\n",
       "      <td>-5.138182e+02</td>\n",
       "    </tr>\n",
       "    <tr>\n",
       "      <th>15</th>\n",
       "      <td>16</td>\n",
       "      <td>161.111111</td>\n",
       "      <td>88.888889</td>\n",
       "      <td>250.000000</td>\n",
       "      <td>-121002.398990</td>\n",
       "      <td>-121002.398990</td>\n",
       "      <td>-453.977273</td>\n",
       "      <td>-519.954545</td>\n",
       "      <td>-5.705455e+02</td>\n",
       "    </tr>\n",
       "  </tbody>\n",
       "</table>\n",
       "</div>"
      ],
      "text/plain": [
       "     k         x_1         x_2         x_3            z_lb           z_ub  \\\n",
       "0    1    0.000000    0.000000    0.000000 -1000000.000000   98000.000000   \n",
       "1    2    0.000000    0.000000    0.004672  -999998.785191   97997.621354   \n",
       "2    3    0.000000    0.000000  500.000000  -156545.454545  -34818.181818   \n",
       "3    4  219.148936    0.000000  280.851064  -151390.473888 -109806.237911   \n",
       "4    5  465.381727   34.618273    0.000000  -143308.880419  -72399.789510   \n",
       "5    6  465.381217   34.618482    0.000302  -143308.878617  -72399.880425   \n",
       "6    7   74.893617  194.337152  230.769231  -141930.999851 -114350.952239   \n",
       "7    8  175.768272   93.462498  230.769231  -127911.715467 -120811.953333   \n",
       "8    9   97.563820  112.675254  289.760926  -124555.314052 -117155.305360   \n",
       "9   10  156.668398   81.551831  261.779771  -123088.394898 -120365.036457   \n",
       "10  11  129.962053  121.156970  248.880978  -121655.611721 -119711.670656   \n",
       "11  12  174.348297   85.821931  239.829772  -121535.417611 -120933.438270   \n",
       "12  13  149.533800   96.969697  253.496503  -121031.057957 -120674.033164   \n",
       "13  14  159.829060   88.888889  251.282051  -121010.819736 -120938.092463   \n",
       "14  15  162.889813   86.486486  250.623701  -121004.802967 -120969.422132   \n",
       "15  16  161.111111   88.888889  250.000000  -121002.398990 -121002.398990   \n",
       "\n",
       "          pi_1        pi_2          pi_3  \n",
       "0  -635.568182 -672.954545 -2.350000e+08  \n",
       "1  -635.568182 -672.954545 -7.690909e+02  \n",
       "2  -635.568182 -672.954545 -2.136364e+02  \n",
       "3  -453.977273 -672.954545 -4.618182e+02  \n",
       "4  -453.977273 -672.954545 -2.350000e+08  \n",
       "5  -453.977273 -672.954545 -7.690909e+02  \n",
       "6  -535.113636 -480.681818 -6.320000e+02  \n",
       "7  -453.977273 -519.954545 -6.320000e+02  \n",
       "8  -477.931818 -480.681818 -4.618182e+02  \n",
       "9  -453.977273 -550.227273 -5.138182e+02  \n",
       "10 -453.977273 -480.681818 -5.705455e+02  \n",
       "11 -453.977273 -534.681818 -5.705455e+02  \n",
       "12 -453.977273 -506.045455 -5.138182e+02  \n",
       "13 -453.977273 -519.954545 -5.138182e+02  \n",
       "14 -453.977273 -534.681818 -5.138182e+02  \n",
       "15 -453.977273 -519.954545 -5.705455e+02  "
      ]
     },
     "execution_count": 15,
     "metadata": {},
     "output_type": "execute_result"
    }
   ],
   "source": [
    "df"
   ]
  },
  {
   "cell_type": "code",
   "execution_count": 16,
   "metadata": {},
   "outputs": [
    {
     "data": {
      "text/plain": [
       "Text(0, 0.5, 'cost')"
      ]
     },
     "execution_count": 16,
     "metadata": {},
     "output_type": "execute_result"
    },
    {
     "data": {
      "image/png": "[encoded data removed]",
      "text/plain": [
       "<Figure size 576x432 with 1 Axes>"
      ]
     },
     "metadata": {
      "needs_background": "light"
     },
     "output_type": "display_data"
    }
   ],
   "source": [
    "_, ax = plt.subplots(figsize=(8, 6))\n",
    "\n",
    "ax.plot(df['k'], df['z_lb'], '-^', df['z_ub'], '-*')\n",
    "ax.set_xlabel('iteration')\n",
    "ax.set_ylabel('cost')"
   ]
  }
 ],
 "metadata": {
  "kernelspec": {
   "display_name": "Python 3",
   "language": "python",
   "name": "python3"
  },
  "language_info": {
   "codemirror_mode": {
    "name": "ipython",
    "version": 3
   },
   "file_extension": ".py",
   "mimetype": "text/x-python",
   "name": "python",
   "nbconvert_exporter": "python",
   "pygments_lexer": "ipython3",
   "version": "3.8.2"
  }
 },
 "nbformat": 4,
 "nbformat_minor": 2
}
